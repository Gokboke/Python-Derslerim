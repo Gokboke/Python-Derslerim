{
  "nbformat": 4,
  "nbformat_minor": 0,
  "metadata": {
    "colab": {
      "name": "liste.ipynb",
      "provenance": [],
      "collapsed_sections": [],
      "authorship_tag": "ABX9TyMmwmQg4U14pTgvI2EngqWp",
      "include_colab_link": true
    },
    "kernelspec": {
      "name": "python3",
      "display_name": "Python 3"
    }
  },
  "cells": [
    {
      "cell_type": "markdown",
      "metadata": {
        "id": "view-in-github",
        "colab_type": "text"
      },
      "source": [
        "<a href=\"https://colab.research.google.com/github/Gokboke/Python-Derslerim/blob/master/liste.ipynb\" target=\"_parent\"><img src=\"https://colab.research.google.com/assets/colab-badge.svg\" alt=\"Open In Colab\"/></a>"
      ]
    },
    {
      "cell_type": "code",
      "metadata": {
        "id": "X2DO9ns1tLBW",
        "colab_type": "code",
        "colab": {}
      },
      "source": [
        "# append()     Listenin sonuna element ekler\n",
        "# clear()      Listedeki tüm elementleri siler\n",
        "# copy()       Listenin bir kopyasını döndürür\n",
        "# count()      Parantez içindeki verinin listede kaç kez geçtiğini döndürür\n",
        "# extend()     Listenin sonuna element ekler\n",
        "# index()      Parantez içindeki veriyi listede arar, indisini döndürür\n",
        "# insert()     İlk parametredeki indise, ikinci parametredeki veriyi yerleştirir\n",
        "# pop()        Listenin sonundaki elementi siler\n",
        "# remove()     Parantez içindeki verinin listedeki tüm kopyalarını siler\n",
        "# reverse()    Listeyi tersine çevirir\n",
        "# sort()       Listeyi sıralar"
      ],
      "execution_count": null,
      "outputs": []
    },
    {
      "cell_type": "code",
      "metadata": {
        "id": "HFEvFQrXkZud",
        "colab_type": "code",
        "colab": {
          "base_uri": "https://localhost:8080/",
          "height": 101
        },
        "outputId": "88c43374-8146-4421-93a9-ab00f327d988"
      },
      "source": [
        "list = [\"apple\", \"banana\", \"cherry\", \"orange\", \"kiwi\", \"melon\", \"mango\"]\n",
        "\n",
        "print(list[2])\n",
        "print(list[:4])\n",
        "print(list[4:])\n",
        "print(list[2:5])\n",
        "print(list[-4:-1])"
      ],
      "execution_count": null,
      "outputs": [
        {
          "output_type": "stream",
          "text": [
            "cherry\n",
            "['apple', 'banana', 'cherry', 'orange']\n",
            "['kiwi', 'melon', 'mango']\n",
            "['cherry', 'orange', 'kiwi']\n",
            "['orange', 'kiwi', 'melon']\n"
          ],
          "name": "stdout"
        }
      ]
    },
    {
      "cell_type": "code",
      "metadata": {
        "id": "1tWc2ER7lcrU",
        "colab_type": "code",
        "colab": {
          "base_uri": "https://localhost:8080/",
          "height": 34
        },
        "outputId": "4930df22-e291-4cf7-b780-1ffc3fc6b1d5"
      },
      "source": [
        "list[1] = \"strawberry\"\n",
        "print(list[1])"
      ],
      "execution_count": null,
      "outputs": [
        {
          "output_type": "stream",
          "text": [
            "strawberry\n"
          ],
          "name": "stdout"
        }
      ]
    },
    {
      "cell_type": "code",
      "metadata": {
        "id": "8UABrRtfl4z3",
        "colab_type": "code",
        "colab": {
          "base_uri": "https://localhost:8080/",
          "height": 34
        },
        "outputId": "69a5f6cf-ae68-4cd2-cb20-142e4234be23"
      },
      "source": [
        "for x in list:\n",
        "  print (x, end=\" \")"
      ],
      "execution_count": null,
      "outputs": [
        {
          "output_type": "stream",
          "text": [
            "apple strawberry cherry orange kiwi melon mango "
          ],
          "name": "stdout"
        }
      ]
    },
    {
      "cell_type": "code",
      "metadata": {
        "id": "q0KKbPwCmMSH",
        "colab_type": "code",
        "colab": {
          "base_uri": "https://localhost:8080/",
          "height": 34
        },
        "outputId": "22c02225-c28b-463d-db64-19ebe9292d88"
      },
      "source": [
        "if \"apple\" in list:\n",
        "  print(\"'apple' is in the list\")\n",
        "else: \n",
        "  print(\"Null\")"
      ],
      "execution_count": null,
      "outputs": [
        {
          "output_type": "stream",
          "text": [
            "'apple' is in the list\n"
          ],
          "name": "stdout"
        }
      ]
    },
    {
      "cell_type": "code",
      "metadata": {
        "id": "1ydp6TXHmw3O",
        "colab_type": "code",
        "colab": {
          "base_uri": "https://localhost:8080/",
          "height": 34
        },
        "outputId": "399b7b18-9272-4b48-ca14-591a179d06cc"
      },
      "source": [
        "print (len(list))"
      ],
      "execution_count": null,
      "outputs": [
        {
          "output_type": "stream",
          "text": [
            "7\n"
          ],
          "name": "stdout"
        }
      ]
    },
    {
      "cell_type": "code",
      "metadata": {
        "id": "Ownv4lhhm8p_",
        "colab_type": "code",
        "colab": {
          "base_uri": "https://localhost:8080/",
          "height": 34
        },
        "outputId": "dec285b1-b78e-467a-afa9-13d65759cb13"
      },
      "source": [
        "list.append(\"orange\")\n",
        "print(list)"
      ],
      "execution_count": null,
      "outputs": [
        {
          "output_type": "stream",
          "text": [
            "['apple', 'watermelon', 'strawberry', 'cherry', 'orange', 'kiwi', 'melon', 'mango', 'orange', 'orange']\n"
          ],
          "name": "stdout"
        }
      ]
    },
    {
      "cell_type": "code",
      "metadata": {
        "id": "ZE4EfrhOnYFQ",
        "colab_type": "code",
        "colab": {
          "base_uri": "https://localhost:8080/",
          "height": 34
        },
        "outputId": "c8c81bf3-0382-4672-a850-576802cd0532"
      },
      "source": [
        "list.insert(1 , \"watermelon\")\n",
        "print (list)"
      ],
      "execution_count": null,
      "outputs": [
        {
          "output_type": "stream",
          "text": [
            "['apple', 'watermelon', 'watermelon', 'watermelon', 'strawberry', 'cherry', 'orange', 'kiwi', 'melon', 'mango', 'orange', 'orange', 'orange']\n"
          ],
          "name": "stdout"
        }
      ]
    },
    {
      "cell_type": "code",
      "metadata": {
        "id": "kxpxBo7Nnhzp",
        "colab_type": "code",
        "colab": {
          "base_uri": "https://localhost:8080/",
          "height": 34
        },
        "outputId": "c30807ac-53a5-404d-d10b-a8275d10b6a0"
      },
      "source": [
        "list.remove(\"watermelon\")\n",
        "print(list)"
      ],
      "execution_count": null,
      "outputs": [
        {
          "output_type": "stream",
          "text": [
            "['apple', 'watermelon', 'strawberry', 'cherry', 'orange', 'kiwi', 'melon', 'mango', 'orange', 'orange', 'orange']\n"
          ],
          "name": "stdout"
        }
      ]
    },
    {
      "cell_type": "code",
      "metadata": {
        "id": "EZ5fyjnznoFb",
        "colab_type": "code",
        "colab": {
          "base_uri": "https://localhost:8080/",
          "height": 34
        },
        "outputId": "2ca81855-fe6f-442f-8bb9-a35254924f98"
      },
      "source": [
        "list.pop()\n",
        "print(list)"
      ],
      "execution_count": null,
      "outputs": [
        {
          "output_type": "stream",
          "text": [
            "['apple', 'watermelon', 'strawberry', 'cherry', 'orange', 'kiwi', 'melon', 'mango', 'orange']\n"
          ],
          "name": "stdout"
        }
      ]
    },
    {
      "cell_type": "code",
      "metadata": {
        "id": "E-IqnYfyn8LG",
        "colab_type": "code",
        "colab": {
          "base_uri": "https://localhost:8080/",
          "height": 34
        },
        "outputId": "846c6eb3-5952-49a0-ee56-c722fcc8c07c"
      },
      "source": [
        "del list\n",
        "print(list)"
      ],
      "execution_count": null,
      "outputs": [
        {
          "output_type": "stream",
          "text": [
            "<class 'list'>\n"
          ],
          "name": "stdout"
        }
      ]
    },
    {
      "cell_type": "code",
      "metadata": {
        "id": "SmbUB3iYoYX7",
        "colab_type": "code",
        "colab": {
          "base_uri": "https://localhost:8080/",
          "height": 34
        },
        "outputId": "e4e5accd-3a4a-49b6-fb1e-e2734b250c9d"
      },
      "source": [
        "del list[2]\n",
        "print(list)"
      ],
      "execution_count": null,
      "outputs": [
        {
          "output_type": "stream",
          "text": [
            "['apple', 'banana', 'orange', 'kiwi', 'melon', 'mango']\n"
          ],
          "name": "stdout"
        }
      ]
    },
    {
      "cell_type": "code",
      "metadata": {
        "id": "YxoYhwRWohhN",
        "colab_type": "code",
        "colab": {
          "base_uri": "https://localhost:8080/",
          "height": 34
        },
        "outputId": "05effbc0-ebcb-481a-96d7-a27d067d9b32"
      },
      "source": [
        "list.clear()\n",
        "print(list)"
      ],
      "execution_count": null,
      "outputs": [
        {
          "output_type": "stream",
          "text": [
            "[]\n"
          ],
          "name": "stdout"
        }
      ]
    },
    {
      "cell_type": "code",
      "metadata": {
        "id": "LgQWqL4PpJY-",
        "colab_type": "code",
        "colab": {
          "base_uri": "https://localhost:8080/",
          "height": 50
        },
        "outputId": "4378da40-3190-48e4-eaa3-0a85344e95e3"
      },
      "source": [
        "list = [\"apple\", \"banana\", \"cherry\", \"orange\", \"kiwi\", \"melon\", \"mango\"]\n",
        "copiedList =list.copy()\n",
        "print(copiedList)\n",
        "copiedList.pop()\n",
        "print(copiedList)"
      ],
      "execution_count": null,
      "outputs": [
        {
          "output_type": "stream",
          "text": [
            "['apple', 'banana', 'cherry', 'orange', 'kiwi', 'melon', 'mango']\n",
            "['apple', 'banana', 'cherry', 'orange', 'kiwi', 'melon']\n"
          ],
          "name": "stdout"
        }
      ]
    },
    {
      "cell_type": "code",
      "metadata": {
        "id": "iARUysjap4d_",
        "colab_type": "code",
        "colab": {
          "base_uri": "https://localhost:8080/",
          "height": 34
        },
        "outputId": "c4828679-cf23-4b7a-b95d-7ad542a7f929"
      },
      "source": [
        "list1 = [\"a\", \"b\", \"c\"]\n",
        "list2 = [\"1\", \"2\", \"3\"]\n",
        "list3 = list1 + list2\n",
        "print (list3)"
      ],
      "execution_count": null,
      "outputs": [
        {
          "output_type": "stream",
          "text": [
            "['a', 'b', 'c', '1', '2', '3']\n"
          ],
          "name": "stdout"
        }
      ]
    },
    {
      "cell_type": "code",
      "metadata": {
        "id": "mTC2OMW3qyze",
        "colab_type": "code",
        "colab": {
          "base_uri": "https://localhost:8080/",
          "height": 34
        },
        "outputId": "087c5ecc-1328-4878-a301-b21e93366fa8"
      },
      "source": [
        "for x in list1:\n",
        "  list2.append(x)\n",
        "print(list2)"
      ],
      "execution_count": null,
      "outputs": [
        {
          "output_type": "stream",
          "text": [
            "['1', '2', '3', 'a', 'b', 'c', 'a', 'b', 'c']\n"
          ],
          "name": "stdout"
        }
      ]
    },
    {
      "cell_type": "code",
      "metadata": {
        "id": "vWtLWa_9rt-Z",
        "colab_type": "code",
        "colab": {
          "base_uri": "https://localhost:8080/",
          "height": 34
        },
        "outputId": "4360dcce-924e-4f38-c260-ac500404feca"
      },
      "source": [
        "list1 = [\"a\", \"b\", \"c\"]\n",
        "list2 = [1,2,3]\n",
        "list1.extend(list2)\n",
        "print (list1)"
      ],
      "execution_count": null,
      "outputs": [
        {
          "output_type": "stream",
          "text": [
            "['a', 'b', 'c', 1, 2, 3]\n"
          ],
          "name": "stdout"
        }
      ]
    },
    {
      "cell_type": "code",
      "metadata": {
        "id": "tQyeUkAVr-cw",
        "colab_type": "code",
        "colab": {
          "base_uri": "https://localhost:8080/",
          "height": 34
        },
        "outputId": "8c770a6e-fc10-41c5-b496-4ca41cb3e60a"
      },
      "source": [
        "del list\n",
        "listem = list((\"apple\",\"banana\",\"cherry\"))\n",
        "print (listem)"
      ],
      "execution_count": null,
      "outputs": [
        {
          "output_type": "stream",
          "text": [
            "['apple', 'banana', 'cherry']\n"
          ],
          "name": "stdout"
        }
      ]
    },
    {
      "cell_type": "code",
      "metadata": {
        "id": "xdcjlIpmw_8H",
        "colab_type": "code",
        "colab": {
          "base_uri": "https://localhost:8080/",
          "height": 34
        },
        "outputId": "5ef2a729-797d-46c8-b7d4-7f692c1d5d95"
      },
      "source": [
        "# Virgüller önemli\n",
        "thisdict = {\n",
        "    \"brand\" : \"Ford\",\n",
        "    \"model\" : \"Mustang\",\n",
        "    \"year\" : 1964\n",
        "}\n",
        "print (thisdict)"
      ],
      "execution_count": null,
      "outputs": [
        {
          "output_type": "stream",
          "text": [
            "{'brand': 'Ford', 'model': 'Mustang', 'year': 1964}\n"
          ],
          "name": "stdout"
        }
      ]
    },
    {
      "cell_type": "code",
      "metadata": {
        "id": "JJAGZWARxx8Z",
        "colab_type": "code",
        "colab": {
          "base_uri": "https://localhost:8080/",
          "height": 34
        },
        "outputId": "cb75ba9a-f7e0-4e94-b383-ac75d62d6624"
      },
      "source": [
        "x = thisdict[\"model\"]\n",
        "y = thisdict.get(\"year\")\n",
        "# ikisi aynı işlevde\n",
        "print(x,y)"
      ],
      "execution_count": null,
      "outputs": [
        {
          "output_type": "stream",
          "text": [
            "Mustang 1964\n"
          ],
          "name": "stdout"
        }
      ]
    },
    {
      "cell_type": "code",
      "metadata": {
        "id": "CpgifrA7yc_n",
        "colab_type": "code",
        "colab": {
          "base_uri": "https://localhost:8080/",
          "height": 34
        },
        "outputId": "1d876b70-ba2d-4a7c-a6fa-1ac3783f1e65"
      },
      "source": [
        "thisdict = {\n",
        "    \"brand\" : \"Ford\",\n",
        "    \"model\" : \"Mustang\",\n",
        "    \"year\" : 1964\n",
        "}\n",
        "thisdict[\"year\"] = 2018\n",
        "print (thisdict)"
      ],
      "execution_count": null,
      "outputs": [
        {
          "output_type": "stream",
          "text": [
            "{'brand': 'Ford', 'model': 'Mustang', 'year': 2018}\n"
          ],
          "name": "stdout"
        }
      ]
    },
    {
      "cell_type": "code",
      "metadata": {
        "id": "XLWGrTmxy38-",
        "colab_type": "code",
        "colab": {
          "base_uri": "https://localhost:8080/",
          "height": 67
        },
        "outputId": "d8dd759f-e31a-40ae-c10d-26a03970ed72"
      },
      "source": [
        "# Anahtarları döndürür\n",
        "for x in thisdict:\n",
        "  print(x)"
      ],
      "execution_count": null,
      "outputs": [
        {
          "output_type": "stream",
          "text": [
            "brand\n",
            "model\n",
            "year\n"
          ],
          "name": "stdout"
        }
      ]
    },
    {
      "cell_type": "code",
      "metadata": {
        "id": "kGZDfxVKzp6M",
        "colab_type": "code",
        "colab": {
          "base_uri": "https://localhost:8080/",
          "height": 67
        },
        "outputId": "d2316407-8d49-4126-e699-ca12e88bcb61"
      },
      "source": [
        "# Değerleri döndürür\n",
        "for x in thisdict:\n",
        "  print(thisdict[x])"
      ],
      "execution_count": null,
      "outputs": [
        {
          "output_type": "stream",
          "text": [
            "Ford\n",
            "Mustang\n",
            "2018\n"
          ],
          "name": "stdout"
        }
      ]
    },
    {
      "cell_type": "code",
      "metadata": {
        "id": "NLal4sTCzyM0",
        "colab_type": "code",
        "colab": {
          "base_uri": "https://localhost:8080/",
          "height": 67
        },
        "outputId": "e11165f4-01b2-463b-cde0-2fe7e10716c2"
      },
      "source": [
        "# Değerleri döndürür\n",
        "for x in thisdict.values():\n",
        "  print(x)"
      ],
      "execution_count": null,
      "outputs": [
        {
          "output_type": "stream",
          "text": [
            "Ford\n",
            "Mustang\n",
            "2018\n"
          ],
          "name": "stdout"
        }
      ]
    },
    {
      "cell_type": "code",
      "metadata": {
        "id": "kRzozHt_z_B6",
        "colab_type": "code",
        "colab": {
          "base_uri": "https://localhost:8080/",
          "height": 67
        },
        "outputId": "3803605c-8e06-40dd-d4bd-562c3432079d"
      },
      "source": [
        "# Hem anahtar hem değer döndürür\n",
        "for x,y in thisdict.items():\n",
        "  print(x,y)"
      ],
      "execution_count": null,
      "outputs": [
        {
          "output_type": "stream",
          "text": [
            "brand Ford\n",
            "model Mustang\n",
            "year 2018\n"
          ],
          "name": "stdout"
        }
      ]
    },
    {
      "cell_type": "code",
      "metadata": {
        "id": "iOiUew_20dHL",
        "colab_type": "code",
        "colab": {
          "base_uri": "https://localhost:8080/",
          "height": 34
        },
        "outputId": "d84e17d5-4b65-41a5-ce29-6f356c6554ba"
      },
      "source": [
        "thisdict = {\n",
        "    \"brand\" : \"Ford\",\n",
        "    \"model\" : \"Mustang\",\n",
        "    \"year\" : 1964\n",
        "}\n",
        "if \"model\" in thisdict:\n",
        "  print(\"True\")\n",
        "else:\n",
        "  print(\"False\")"
      ],
      "execution_count": null,
      "outputs": [
        {
          "output_type": "stream",
          "text": [
            "False\n"
          ],
          "name": "stdout"
        }
      ]
    },
    {
      "cell_type": "code",
      "metadata": {
        "id": "dZBvxH480qXs",
        "colab_type": "code",
        "colab": {
          "base_uri": "https://localhost:8080/",
          "height": 34
        },
        "outputId": "28d4a510-940b-43e0-b4b1-5965c811e142"
      },
      "source": [
        "thisdict = {\n",
        "    \"brand\" : \"Ford\",\n",
        "    \"model\" : \"Mustang\",\n",
        "    \"year\" : 1964\n",
        "}\n",
        "print(len(thisdict))"
      ],
      "execution_count": null,
      "outputs": [
        {
          "output_type": "stream",
          "text": [
            "3\n"
          ],
          "name": "stdout"
        }
      ]
    },
    {
      "cell_type": "code",
      "metadata": {
        "id": "FzB_aMCcryz_",
        "colab_type": "code",
        "colab": {
          "base_uri": "https://localhost:8080/",
          "height": 34
        },
        "outputId": "d5fdf08c-b87b-471d-ea40-770c3f260b60"
      },
      "source": [
        "# Sözlüğe yeni bir öğe ekleme\n",
        "thisdict = {\n",
        "    \"brand\" : \"Ford\",\n",
        "    \"model\" : \"Mustang\",\n",
        "    \"year\" : 1964\n",
        "}\n",
        "thisdict[\"color\"] = \"red\"\n",
        "\n",
        "print(thisdict)\n"
      ],
      "execution_count": null,
      "outputs": [
        {
          "output_type": "stream",
          "text": [
            "{'brand': 'Ford', 'model': 'Mustang', 'year': 1964, 'color': 'red'}\n"
          ],
          "name": "stdout"
        }
      ]
    },
    {
      "cell_type": "code",
      "metadata": {
        "id": "KXG_h52otbUQ",
        "colab_type": "code",
        "colab": {
          "base_uri": "https://localhost:8080/",
          "height": 34
        },
        "outputId": "91b25c34-3ed4-4253-c10f-a0d9ba439fb4"
      },
      "source": [
        "# Belirtilen anahtar için anahtar-değer silme\n",
        "thisdict = {\n",
        "    \"brand\" : \"Ford\",\n",
        "    \"model\" : \"Mustang\",\n",
        "    \"year\" : 1964\n",
        "}\n",
        "\n",
        "thisdict.pop(\"model\")\n",
        "\n",
        "print (thisdict)"
      ],
      "execution_count": null,
      "outputs": [
        {
          "output_type": "stream",
          "text": [
            "{'brand': 'Ford', 'year': 1964}\n"
          ],
          "name": "stdout"
        }
      ]
    },
    {
      "cell_type": "code",
      "metadata": {
        "id": "9QeafxP8tpth",
        "colab_type": "code",
        "colab": {
          "base_uri": "https://localhost:8080/",
          "height": 34
        },
        "outputId": "a9f6481d-a7bb-4cbb-c4df-512a93917ac5"
      },
      "source": [
        "# Belirtilen anahtar için anahtar-değer silme\n",
        "thisdict = {\n",
        "    \"brand\" : \"Ford\",\n",
        "    \"model\" : \"Mustang\",\n",
        "    \"year\" : 1964\n",
        "}\n",
        "\n",
        "del thisdict[\"model\"]\n",
        "\n",
        "print(thisdict)"
      ],
      "execution_count": null,
      "outputs": [
        {
          "output_type": "stream",
          "text": [
            "{'brand': 'Ford', 'year': 1964}\n"
          ],
          "name": "stdout"
        }
      ]
    },
    {
      "cell_type": "code",
      "metadata": {
        "id": "wZInRepXyC1p",
        "colab_type": "code",
        "colab": {}
      },
      "source": [
        "# Sözlüğü tamamen silme\n",
        "thisdict = {\n",
        "    \"brand\" : \"Ford\",\n",
        "    \"model\" : \"Mustang\",\n",
        "    \"year\" : 1964\n",
        "}\n",
        "del thisdict\n",
        "\n",
        "print(thisdict) #error 'cause thisdict no longer exist"
      ],
      "execution_count": null,
      "outputs": []
    },
    {
      "cell_type": "code",
      "metadata": {
        "id": "CFgRdP_kycm6",
        "colab_type": "code",
        "colab": {
          "base_uri": "https://localhost:8080/",
          "height": 34
        },
        "outputId": "3b9dd685-5026-4cbd-d0e1-634d5ae0da07"
      },
      "source": [
        "# Sözlüğü hafızadan kaldırmadan içini temizleme\n",
        "\n",
        "thisdict = {\n",
        "    \"brand\" : \"Ford\",\n",
        "    \"model\" : \"Mustang\",\n",
        "    \"year\" : 1964\n",
        "}\n",
        "\n",
        "thisdict.clear()\n",
        "print(thisdict)"
      ],
      "execution_count": null,
      "outputs": [
        {
          "output_type": "stream",
          "text": [
            "{}\n"
          ],
          "name": "stdout"
        }
      ]
    },
    {
      "cell_type": "code",
      "metadata": {
        "id": "9UDneU3Jyz5w",
        "colab_type": "code",
        "colab": {
          "base_uri": "https://localhost:8080/",
          "height": 34
        },
        "outputId": "1062fc5c-455e-409c-8d8e-102f4ec9f9cd"
      },
      "source": [
        "# Sözlük kopyalama\n",
        "\n",
        "thisdict = {\n",
        "    \"brand\" : \"Ford\",\n",
        "    \"model\" : \"Mustang\",\n",
        "    \"year\" : 1964\n",
        "}\n",
        "\n",
        "mydict = thisdict.copy()\n",
        "\n",
        "print(mydict)"
      ],
      "execution_count": null,
      "outputs": [
        {
          "output_type": "stream",
          "text": [
            "{'brand': 'Ford', 'model': 'Mustang', 'year': 1964}\n"
          ],
          "name": "stdout"
        }
      ]
    },
    {
      "cell_type": "code",
      "metadata": {
        "id": "A7pFgsqBzPyB",
        "colab_type": "code",
        "colab": {
          "base_uri": "https://localhost:8080/",
          "height": 34
        },
        "outputId": "379d27b7-f56e-4580-a1d6-1c355ab8b8eb"
      },
      "source": [
        "# Sözlük kopyalama\n",
        "\n",
        "thisdict = {\n",
        "    \"brand\" : \"Ford\",\n",
        "    \"model\" : \"Mustang\",\n",
        "    \"year\" : 1964\n",
        "}\n",
        "\n",
        "mydict = dict(thisdict)\n",
        "\n",
        "print (mydict)"
      ],
      "execution_count": null,
      "outputs": [
        {
          "output_type": "stream",
          "text": [
            "{'brand': 'Ford', 'model': 'Mustang', 'year': 1964}\n"
          ],
          "name": "stdout"
        }
      ]
    },
    {
      "cell_type": "code",
      "metadata": {
        "id": "6Zr6t5Zuzl2n",
        "colab_type": "code",
        "colab": {
          "base_uri": "https://localhost:8080/",
          "height": 128
        },
        "outputId": "90e87681-9a3b-4d3f-aed1-d2324324cbe8"
      },
      "source": [
        "# İç içe sözlükler\n",
        "\n",
        "myFamily = {\n",
        "    \"child1\" : {\n",
        "        \"name\" : \"Emil\",\n",
        "        \"year\" : 2004\n",
        "    }\n",
        "    \"child2\" : {\n",
        "        \"name\" : \"Tobias\",\n",
        "        \"year\" : 2007\n",
        "    }\n",
        "    \"child3\" : {\n",
        "        \"name\" : \"Linus\",\n",
        "        \"year\" : 2011\n",
        "    }\n",
        "\n",
        "}\n",
        "\n",
        "print (myFamily)"
      ],
      "execution_count": null,
      "outputs": [
        {
          "output_type": "error",
          "ename": "SyntaxError",
          "evalue": "ignored",
          "traceback": [
            "\u001b[0;36m  File \u001b[0;32m\"<ipython-input-10-901dba972fc2>\"\u001b[0;36m, line \u001b[0;32m8\u001b[0m\n\u001b[0;31m    \"child2\" : {\u001b[0m\n\u001b[0m           ^\u001b[0m\n\u001b[0;31mSyntaxError\u001b[0m\u001b[0;31m:\u001b[0m invalid syntax\n"
          ]
        }
      ]
    }
  ]
}